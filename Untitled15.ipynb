{
  "nbformat": 4,
  "nbformat_minor": 0,
  "metadata": {
    "colab": {
      "provenance": []
    },
    "kernelspec": {
      "name": "python3",
      "display_name": "Python 3"
    },
    "language_info": {
      "name": "python"
    }
  },
  "cells": [
    {
      "cell_type": "code",
      "execution_count": null,
      "metadata": {
        "id": "0Abg5NTtBk6v"
      },
      "outputs": [],
      "source": [
        "#contoh list\n",
        "nilai = [1,5,2,3,4,21,9,8,7]\n",
        "#untuk kita urutkan dari yg tergede\n",
        "urutan = sorted(nilai, reverse=True)\n",
        "#untuk kita ambil 3 nilai yg udh di sorted dan direverse\n",
        "tiganilai = urutan[:3]\n",
        "#output\n",
        "print(tiganilai)"
      ]
    },
    {
      "cell_type": "code",
      "source": [
        "# list dalam bentuk angk\n",
        "list = []\n",
        "while True:\n",
        "    inputan = input(\"Masukkan angka.lalu ketik 'done' jika sudah selesai: \")\n",
        "    if inputan.lower() == 'done':\n",
        "        break\n",
        "    else:\n",
        "        try:\n",
        "            # ngemasukkin data ke dlmlist sama masukan nya angka(int)\n",
        "            angka = int(inputan)\n",
        "            list.append(angka)\n",
        "            #bwt ngasih tau kalau bukan angka terus biar program ttp jalanwalau bukana angka\n",
        "        except ValueError:\n",
        "            print(\"input anda salah. tolong masukkan angka.\")\n",
        "\n",
        "# Cek jika kosong atau tidak\n",
        "if list:\n",
        "    # Menampilkan nilai maksimum dan minimum\n",
        "    print(\"Nilai maksimum:\", max(list))\n",
        "    print(\"Nilai minimum:\", min(list))\n",
        "else:\n",
        "    print(\"Tidak ada angka/error\")\n",
        ""
      ],
      "metadata": {
        "id": "YU8pQQKjEKdn"
      },
      "execution_count": null,
      "outputs": []
    },
    {
      "cell_type": "code",
      "source": [
        "# Buka file teks\n",
        "buka = open(\"berita.txt\", \"r\", encoding=\"utf-8\")\n",
        "# Membaca baris per baris\n",
        "bacabaris = buka.read()\n",
        "# Pisah tiap kalimat\n",
        "pisah = bacabaris.split(\".\")\n",
        "# buat list kosong buat nanti diisi\n",
        "kataunik = []\n",
        "# Loops\n",
        "for i in pisah:\n",
        "    # Pisah kalimat menjadi kata-kata\n",
        "    kata = i.strip().split()\n",
        "    # Loop untuk setiap kata\n",
        "    for j in kata:\n",
        "        # supaya tidak ada tanda baca\n",
        "        j = j.strip(\".,?!\\\"';:-\").lower()\n",
        "        # Jika kata belum ada dalam list kataunik, tambah ke list\n",
        "        if j not in kataunik:\n",
        "            kataunik.append(j)\n",
        "\n",
        "# Tampilkan isi berita\n",
        "print(\"======Isi Berita======\")\n",
        "print(bacabaris)\n",
        "\n",
        "# Tampilkan kata-kata unik\n",
        "print(\"=======Kata Unik Pada Berita========\")\n",
        "print(kataunik)\n",
        "\n"
      ],
      "metadata": {
        "id": "XzlH_3GhEKq-"
      },
      "execution_count": null,
      "outputs": []
    }
  ]
}